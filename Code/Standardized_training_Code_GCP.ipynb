{
  "nbformat": 4,
  "nbformat_minor": 0,
  "metadata": {
    "accelerator": "GPU",
    "colab": {
      "name": "Standardized_training_Code_GCP.ipynb",
      "provenance": [],
      "collapsed_sections": [
        "lgN9cyHtd1x2",
        "EjOjzIHncX7g",
        "7u8JaZ3-d7WM",
        "8-MUvX5_eURX",
        "3N-vTqg0ecJE",
        "zPAF0kP8eplR",
        "2nAhogoxe06A",
        "Ik6BjMUufPNh",
        "CNL-_L2LkPU7",
        "ucuWeLWyC7Ge",
        "DVsGwDguoBmt",
        "3ZASjEyJI9Y6"
      ],
      "toc_visible": true,
      "include_colab_link": true
    },
    "kernelspec": {
      "display_name": "Python 3",
      "language": "python",
      "name": "python3"
    },
    "language_info": {
      "codemirror_mode": {
        "name": "ipython",
        "version": 3
      },
      "file_extension": ".py",
      "mimetype": "text/x-python",
      "name": "python",
      "nbconvert_exporter": "python",
      "pygments_lexer": "ipython3",
      "version": "3.5.3"
    }
  },
  "cells": [
    {
      "cell_type": "markdown",
      "metadata": {
        "id": "view-in-github",
        "colab_type": "text"
      },
      "source": [
        "<a href=\"https://colab.research.google.com/github/poojadawada/Intracranial-Hemorrhage-Detection/blob/master/Standardized_training_Code_GCP.ipynb\" target=\"_parent\"><img src=\"https://colab.research.google.com/assets/colab-badge.svg\" alt=\"Open In Colab\"/></a>"
      ]
    },
    {
      "cell_type": "markdown",
      "metadata": {
        "colab_type": "text",
        "id": "lgN9cyHtd1x2"
      },
      "source": [
        "###Importing Libraries"
      ]
    },
    {
      "cell_type": "code",
      "metadata": {
        "id": "1vlVrKcAtTjZ",
        "colab_type": "code",
        "outputId": "5e4fa12c-116d-448b-ef80-ddc3dbd21a72",
        "colab": {}
      },
      "source": [
        "pip install pydicom"
      ],
      "execution_count": 0,
      "outputs": [
        {
          "output_type": "stream",
          "text": [
            "Requirement already satisfied: pydicom in ./.local/lib/python3.5/site-packages\n",
            "Note: you may need to restart the kernel to use updated packages.\n"
          ],
          "name": "stdout"
        }
      ]
    },
    {
      "cell_type": "code",
      "metadata": {
        "colab_type": "code",
        "id": "pa2aRROmd42d",
        "outputId": "e82286c5-90d8-4e08-dd4d-f01954bb7a41",
        "colab": {
          "base_uri": "https://localhost:8080/",
          "height": 81
        }
      },
      "source": [
        "import numpy as np\n",
        "import pandas as pd\n",
        "import pydicom\n",
        "import os\n",
        "import matplotlib.pyplot as plt\n",
        "import collections\n",
        "from tqdm import tqdm_notebook as tqdm\n",
        "from datetime import datetime\n",
        "\n",
        "from math import ceil, floor, log\n",
        "import cv2\n",
        "from keras.models import model_from_json\n",
        "import tensorflow as tf\n",
        "import keras\n",
        "\n",
        "import sys\n",
        "\n",
        "# from keras_applications.resnet import ResNet50\n",
        "# Choose any from this list to import - https://keras.io/applications/\n",
        "from keras.applications.vgg16 import VGG16\n",
        "from keras_applications.inception_v3 import InceptionV3\n",
        "from keras.models import Sequential\n",
        "from keras.layers import Dense\n",
        "from sklearn.model_selection import ShuffleSplit"
      ],
      "execution_count": 0,
      "outputs": [
        {
          "output_type": "stream",
          "text": [
            "Using TensorFlow backend.\n"
          ],
          "name": "stderr"
        }
      ]
    },
    {
      "cell_type": "markdown",
      "metadata": {
        "colab_type": "text",
        "id": "EjOjzIHncX7g"
      },
      "source": [
        "###Declaring Variables"
      ]
    },
    {
      "cell_type": "code",
      "metadata": {
        "colab_type": "code",
        "id": "Jmcqp6bYcXAr",
        "colab": {}
      },
      "source": [
        "ALL_LABELS = 'project_data/rsna-intracranial-hemorrhage-detection/stage_2_train.csv'\n",
        "TEST_IMAGES_DIR = 'project_data/rsna-intracranial-hemorrhage-detection/stage_2_train/'\n",
        "TEST_LABELS = 'project_data/rsna-intracranial-hemorrhage-detection/test.csv'\n",
        "TRAIN_IMAGES_DIR = 'project_data/rsna-intracranial-hemorrhage-detection/stage_2_train/'\n",
        "TRAIN_LABELS = 'project_data/rsna-intracranial-hemorrhage-detection/train.csv'\n",
        "#For Saving\n",
        "WEIGHTS_SAVE_DIR = 'project_data/rsna-intracranial-hemorrhage-detection/Weights/'\n",
        "WEIGHT_SAVING_NAME = 'inceptionv3_1_Hidden_lr5e-4-'\n",
        "#For Loading\n",
        "SHORTLIST_WEIGHTS_DIR = 'project_data/rsna-intracranial-hemorrhage-detection/Weights_Shortlist/'\n",
        "WEIGHT_LOAD_NAME = 'inceptionv3_1_Hidden_lr5e-4-10.hdf5'\n",
        "\n",
        "#Sampling (Between 0 and 1)\n",
        "KEEP_PROB_0 = 0.1\n",
        "KEEP_PROB_1 = 0.4"
      ],
      "execution_count": 0,
      "outputs": []
    },
    {
      "cell_type": "markdown",
      "metadata": {
        "colab_type": "text",
        "id": "ZTdWUVMGlovr"
      },
      "source": [
        "###Train Test Split (Needed to be run only once on a platform)"
      ]
    },
    {
      "cell_type": "code",
      "metadata": {
        "id": "SeTxaWfv9VxU",
        "colab_type": "code",
        "colab": {}
      },
      "source": [
        "df = pd.read_csv(ALL_LABELS)\n",
        "df[\"Image\"] = df[\"ID\"].str.slice(stop=12)\n",
        "df[\"Diagnosis\"] = df[\"ID\"].str.slice(start=13)    \n",
        "duplicates_to_remove = [\n",
        "        56340, 56341, 56342, 56343, 56344, 56345, 56346, 56347, 56348, 56349, 56350, 56351, 1171824, 1171825, 1171826, 1171827, 1171828, 1171829, 1171830, 1171831, 1171832, 1171833, 1171834, 1171835, 3705306, 3705307, 3705308, 3705309, 3705310, 3705311, 3705312, 3705313, 3705314, 3705315, 3705316, 3705317, 3842472, 3842473, 3842474, 3842475, 3842476, 3842477, 3842478, 3842479, 3842480, 3842481, 3842482, 3842483\n",
        "    ]\n",
        "    \n",
        "df = df.drop(index=duplicates_to_remove)\n",
        "df = df.reset_index(drop=True)\n",
        "df = df.loc[:, [\"Label\", \"Diagnosis\", \"Image\"]]\n",
        "df = df.set_index(['Image', 'Diagnosis']).unstack(level=-1)"
      ],
      "execution_count": 0,
      "outputs": []
    },
    {
      "cell_type": "code",
      "metadata": {
        "colab_type": "code",
        "id": "9pGlkbht0-6b",
        "outputId": "85e04568-89ab-4c68-c78c-18416c084043",
        "colab": {
          "base_uri": "https://localhost:8080/",
          "height": 35
        }
      },
      "source": [
        "###Caution for Google drive data (Avoid for other platforms)\n",
        "root_path = 'gdrive/My Drive/RSNA Sample 10 GB attempt 3/'\n",
        "import os\n",
        "a = os.listdir(root_path)\n",
        "a = [item.rstrip('.dcm') for item in a]\n",
        "df = df.stack().reset_index()\n",
        "df = df[df['Image'].isin(a)]\n",
        "df = df.set_index(['Image', 'Diagnosis']).unstack(level=-1)\n",
        "len(df)"
      ],
      "execution_count": 0,
      "outputs": [
        {
          "output_type": "execute_result",
          "data": {
            "text/plain": [
              "13062"
            ]
          },
          "metadata": {
            "tags": []
          },
          "execution_count": 7
        }
      ]
    },
    {
      "cell_type": "code",
      "metadata": {
        "colab_type": "code",
        "id": "QGMAMkbhvo20",
        "outputId": "3f1be4d1-bd9f-490d-b0bc-bb81e4fdf440",
        "colab": {
          "base_uri": "https://localhost:8080/",
          "height": 35
        }
      },
      "source": [
        "from sklearn.model_selection import train_test_split\n",
        "train, test  = train_test_split(df, test_size=0.02, random_state=1)\n",
        "test = test.stack().reset_index()\n",
        "test.insert(loc=0, column='ID', value=test['Image'].astype(str) + \"_\" + test['Diagnosis'])\n",
        "test = test.drop([\"Image\", \"Diagnosis\"], axis=1)\n",
        "train = train.stack().reset_index()\n",
        "train.insert(loc=0, column='ID', value=train['Image'].astype(str) + \"_\" + train['Diagnosis'])\n",
        "train = train.drop([\"Image\", \"Diagnosis\"], axis=1)\n",
        "print(len(train),len(test))\n",
        "test.to_csv(TEST_LABELS)\n",
        "train.to_csv(TRAIN_LABELS)"
      ],
      "execution_count": 0,
      "outputs": [
        {
          "output_type": "stream",
          "text": [
            "4426458 90336\n"
          ],
          "name": "stdout"
        }
      ]
    },
    {
      "cell_type": "markdown",
      "metadata": {
        "colab_type": "text",
        "id": "7u8JaZ3-d7WM"
      },
      "source": [
        "###Windowing (BSB & Manual)"
      ]
    },
    {
      "cell_type": "code",
      "metadata": {
        "colab_type": "code",
        "id": "8BLB5UzyeMBu",
        "colab": {}
      },
      "source": [
        "def correct_dcm(dcm):\n",
        "    x = dcm.pixel_array + 1000\n",
        "    px_mode = 4096\n",
        "    x[x>=px_mode] = x[x>=px_mode] - px_mode\n",
        "    dcm.PixelData = x.tobytes()\n",
        "    dcm.RescaleIntercept = -1000\n",
        "\n",
        "def window_image(dcm, window_center, window_width):\n",
        "    \n",
        "    if (dcm.BitsStored == 12) and (dcm.PixelRepresentation == 0) and (int(dcm.RescaleIntercept) > -100):\n",
        "        correct_dcm(dcm)\n",
        "    \n",
        "    img = dcm.pixel_array * dcm.RescaleSlope + dcm.RescaleIntercept\n",
        "    img_min = window_center - window_width // 2\n",
        "    img_max = window_center + window_width // 2\n",
        "    img = np.clip(img, img_min, img_max)\n",
        "\n",
        "    return img\n",
        "\n",
        "def bsb_window(dcm):\n",
        "    brain_img = window_image(dcm, 40, 80)\n",
        "    subdural_img = window_image(dcm, 80, 200)\n",
        "    soft_img = window_image(dcm, 40, 380)\n",
        "    \n",
        "    brain_img = (brain_img - 0) / 80\n",
        "    subdural_img = (subdural_img - (-20)) / 200\n",
        "    soft_img = (soft_img - (-150)) / 380\n",
        "    bsb_img = np.array([brain_img, subdural_img, soft_img]).transpose(1,2,0)\n",
        "\n",
        "    return bsb_img"
      ],
      "execution_count": 0,
      "outputs": []
    },
    {
      "cell_type": "code",
      "metadata": {
        "colab_type": "code",
        "id": "79WITeZ-hIhC",
        "colab": {}
      },
      "source": [
        "def manual_window(dcm, window_center, window_width):\n",
        "    img = window_image(dcm, window_center, window_width)\n",
        "    img = (img - (window_center - window_width/2) )/ window_width\n",
        "    manual_img = np.array([img, img, img]).transpose(1,2,0)\n",
        "\n",
        "    return manual_img"
      ],
      "execution_count": 0,
      "outputs": []
    },
    {
      "cell_type": "markdown",
      "metadata": {
        "colab_type": "text",
        "id": "8-MUvX5_eURX"
      },
      "source": [
        "###Read images (Change Windowing here)"
      ]
    },
    {
      "cell_type": "markdown",
      "metadata": {
        "colab_type": "text",
        "id": "Fg40u2mBl0wF"
      },
      "source": [
        "Brain Matter window : W:80 L:40\n",
        "\n",
        "Blood/subdural window: W:130-300 L:50-100\n",
        "\n",
        "Soft tissue window: W:350–400 L:20–60\n",
        "\n",
        "Bone window: W:2800 L:600\n",
        "\n",
        "Grey-white differentiation window: W:8 L:32 or W:40 L:40"
      ]
    },
    {
      "cell_type": "code",
      "metadata": {
        "colab_type": "code",
        "id": "Xum-0F-feaxH",
        "colab": {}
      },
      "source": [
        "def _read(path, desired_size):\n",
        "    \"\"\"Will be used in DataGenerator\"\"\"\n",
        "    \n",
        "    dcm = pydicom.dcmread(path)\n",
        "    \n",
        "    try:\n",
        "        img = bsb_window(dcm)\n",
        "        #img = manual_window(dcm, 40, 80) # Specify window center, window_width here\n",
        "    except:\n",
        "        img = np.zeros(desired_size)\n",
        "    \n",
        "    \n",
        "    img = cv2.resize(img, desired_size[:2], interpolation=cv2.INTER_LINEAR)\n",
        "    \n",
        "    return img\n"
      ],
      "execution_count": 0,
      "outputs": []
    },
    {
      "cell_type": "markdown",
      "metadata": {
        "colab_type": "text",
        "id": "3N-vTqg0ecJE"
      },
      "source": [
        "###Data generator"
      ]
    },
    {
      "cell_type": "code",
      "metadata": {
        "colab_type": "code",
        "id": "8Q7jxulxejlX",
        "colab": {}
      },
      "source": [
        "class DataGenerator(keras.utils.Sequence):\n",
        "\n",
        "    def __init__(self, list_IDs, labels=None, batch_size=1, img_size=(512, 512, 1), \n",
        "                 img_dir=TRAIN_IMAGES_DIR, *args, **kwargs):\n",
        "\n",
        "        self.list_IDs = list_IDs\n",
        "        self.labels = labels\n",
        "        self.batch_size = batch_size\n",
        "        self.img_size = img_size\n",
        "        self.img_dir = img_dir\n",
        "        self.on_epoch_end()\n",
        "\n",
        "    def __len__(self):\n",
        "        return int(ceil(len(self.indices) / self.batch_size))\n",
        "\n",
        "    def __getitem__(self, index):\n",
        "        indices = self.indices[index*self.batch_size:(index+1)*self.batch_size]\n",
        "        list_IDs_temp = [self.list_IDs[k] for k in indices]\n",
        "        \n",
        "        if self.labels is not None:\n",
        "            X, Y = self.__data_generation(list_IDs_temp)\n",
        "            return X, Y\n",
        "        else:\n",
        "            X = self.__data_generation(list_IDs_temp)\n",
        "            return X\n",
        "        \n",
        "    def on_epoch_end(self):\n",
        "        \n",
        "        \n",
        "        if self.labels is not None: # for training phase we undersample and shuffle\n",
        "            # keep probability of any=0 and any=1\n",
        "            keep_prob = self.labels.iloc[:, 0].map({0: KEEP_PROB_0, 1: KEEP_PROB_1})\n",
        "            keep = (keep_prob > np.random.rand(len(keep_prob)))\n",
        "            self.indices = np.arange(len(self.list_IDs))#[keep]\n",
        "            np.random.shuffle(self.indices)\n",
        "        else:\n",
        "            self.indices = np.arange(len(self.list_IDs))\n",
        "\n",
        "    def __data_generation(self, list_IDs_temp):\n",
        "        X = np.empty((self.batch_size, *self.img_size))\n",
        "        \n",
        "        if self.labels is not None: # training phase\n",
        "            Y = np.empty((self.batch_size, 6), dtype=np.float32)\n",
        "        \n",
        "            for i, ID in enumerate(list_IDs_temp):\n",
        "                X[i,] = _read(self.img_dir+ID+\".dcm\", self.img_size)\n",
        "                Y[i,] = self.labels.loc[ID].values\n",
        "        \n",
        "            return X, Y\n",
        "        \n",
        "        else: # test phase\n",
        "            for i, ID in enumerate(list_IDs_temp):\n",
        "                X[i,] = _read(self.img_dir+ID+\".dcm\", self.img_size)\n",
        "            \n",
        "            return X"
      ],
      "execution_count": 0,
      "outputs": []
    },
    {
      "cell_type": "markdown",
      "metadata": {
        "colab_type": "text",
        "id": "zPAF0kP8eplR"
      },
      "source": [
        "###Loss Function"
      ]
    },
    {
      "cell_type": "code",
      "metadata": {
        "colab_type": "code",
        "id": "y1oyIW2letUf",
        "colab": {}
      },
      "source": [
        "from keras import backend as K\n",
        "\n",
        "\n",
        "def _normalized_weighted_average(arr, weights=None):\n",
        "    \"\"\"\n",
        "    A simple Keras implementation that mimics that of \n",
        "    numpy.average(), specifically for this competition\n",
        "    \"\"\"\n",
        "    \n",
        "    if weights is not None:\n",
        "        scl = K.sum(weights)\n",
        "        weights = K.expand_dims(weights, axis=1)\n",
        "        return K.sum(K.dot(arr, weights), axis=1) / scl\n",
        "    return K.mean(arr, axis=1)\n",
        "\n",
        "\n",
        "def weighted_loss(y_true, y_pred):\n",
        "    \"\"\"\n",
        "    Will be used as the metric in model.compile()\n",
        "    ---------------------------------------------\n",
        "    \n",
        "    Similar to the custom loss function 'weighted_log_loss()' above\n",
        "    but with normalized weights, which should be very similar \n",
        "    to the official competition metric:\n",
        "        https://www.kaggle.com/kambarakun/lb-probe-weights-n-of-positives-scoring\n",
        "    and hence:\n",
        "        sklearn.metrics.log_loss with sample weights\n",
        "    \"\"\"\n",
        "    \n",
        "    class_weights = K.variable([2., 1., 1., 1., 1., 1.])\n",
        "    \n",
        "    eps = K.epsilon()\n",
        "    \n",
        "    y_pred = K.clip(y_pred, eps, 1.0-eps)\n",
        "\n",
        "    loss = -(        y_true  * K.log(      y_pred)\n",
        "            + (1.0 - y_true) * K.log(1.0 - y_pred))\n",
        "    \n",
        "    loss_samples = _normalized_weighted_average(loss, class_weights)\n",
        "    \n",
        "    return K.mean(loss_samples)\n",
        "\n",
        "def auc(y_true, y_pred):\n",
        "    auc = tf.metrics.auc(y_true, y_pred)[1]\n",
        "    K.get_session().run(tf.local_variables_initializer())\n",
        "    return auc\n"
      ],
      "execution_count": 0,
      "outputs": []
    },
    {
      "cell_type": "markdown",
      "metadata": {
        "colab_type": "text",
        "id": "lhiR8zRYewBD"
      },
      "source": [
        "###Model (Change hidden layers here) (Remove cross validation here)"
      ]
    },
    {
      "cell_type": "code",
      "metadata": {
        "colab_type": "code",
        "id": "zLmM06Moe0AJ",
        "colab": {}
      },
      "source": [
        "\n",
        "class MyDeepModel:\n",
        "\n",
        "    \n",
        "  def __init__(self, engine, input_dims, batch_size=5, num_epochs=4, learning_rate=1e-3, \n",
        "                decay_rate=1.0, decay_steps=1, weights=\"imagenet\", verbose=1):\n",
        "    self.engine = engine\n",
        "    self.input_dims = input_dims\n",
        "    self.batch_size = batch_size\n",
        "    self.num_epochs = num_epochs\n",
        "    self.learning_rate = learning_rate\n",
        "    self.decay_rate = decay_rate\n",
        "    self.decay_steps = decay_steps\n",
        "    self.weights = weights\n",
        "    self.verbose = verbose\n",
        "    self._build()\n",
        "\n",
        "  def _build(self):\n",
        "      \n",
        "      \n",
        "    engine = self.engine(include_top=False, weights=self.weights, input_shape=self.input_dims,\n",
        "                          backend = keras.backend, layers = keras.layers,\n",
        "                          models = keras.models, utils = keras.utils)\n",
        "    \n",
        "    x = keras.layers.GlobalAveragePooling2D(name='avg_pool')(engine.output)\n",
        "    out = keras.layers.Dense(6, activation=\"sigmoid\", name='dense_output')(x)\n",
        "\n",
        "    self.model = keras.models.Model(inputs=engine.input, outputs=out)\n",
        "\n",
        "    self.model.compile(loss=\"binary_crossentropy\", optimizer=keras.optimizers.Adam()) #, metrics=[weighted_loss])\n",
        "  \n",
        "\n",
        "  def fit_model(self, train_df, valid_df):\n",
        "      \n",
        "    # callbacks\n",
        "#For kaggle krnel os.chdir to working dir\n",
        "    checkpointer = keras.callbacks.ModelCheckpoint(filepath=WEIGHTS_SAVE_DIR+WEIGHT_SAVING_NAME+'{epoch:02d}.hdf5' , verbose=1, save_weights_only=True, save_best_only=False, monitor='val_loss')\n",
        "#Change back to the input directory\n",
        "    scheduler = keras.callbacks.LearningRateScheduler(lambda epoch: self.learning_rate * pow(self.decay_rate, floor(epoch / self.decay_steps)))\n",
        "    \n",
        "    return self.model.fit_generator(\n",
        "        DataGenerator(\n",
        "            train_df.index, \n",
        "            train_df, \n",
        "            self.batch_size, \n",
        "            self.input_dims, \n",
        "            TRAIN_IMAGES_DIR\n",
        "        ),\n",
        "        validation_data = DataGenerator(\n",
        "            valid_df.index, \n",
        "            valid_df, \n",
        "            self.batch_size, \n",
        "            self.input_dims, \n",
        "            TRAIN_IMAGES_DIR\n",
        "        ),\n",
        "        epochs=self.num_epochs,\n",
        "        verbose=self.verbose,\n",
        "        use_multiprocessing=True,\n",
        "        workers=4\n",
        "        #,callbacks=[scheduler]\n",
        "        #checkpointer\n",
        "      )\n",
        "\n",
        "  def save(self, path):\n",
        "    self.model.save_weights(path)\n",
        "  \n",
        "  def load(self, path):\n",
        "    self.model.load_weights(path)\n",
        "\n",
        "  def predictions(self, test_df, batch_size_pred=8):\n",
        "    self.test_df= test_df\n",
        "    self.batch_size_pred = batch_size_pred\n",
        "    test_preds = self.model.predict_generator(DataGenerator(self.test_df.index, None, self.batch_size_pred, self.input_dims, TEST_IMAGES_DIR), verbose=1)\n",
        "    return test_preds\n"
      ],
      "execution_count": 0,
      "outputs": []
    },
    {
      "cell_type": "markdown",
      "metadata": {
        "colab_type": "text",
        "id": "2nAhogoxe06A"
      },
      "source": [
        "###Read and convert labels dataset to our format (Remove the duplicates when running on GCP)"
      ]
    },
    {
      "cell_type": "code",
      "metadata": {
        "colab_type": "code",
        "id": "njSmYgRme-hq",
        "colab": {}
      },
      "source": [
        "\n",
        "def read_trainset(filename=TRAIN_LABELS):\n",
        "    df = pd.read_csv(filename)\n",
        "    df[\"Image\"] = df[\"ID\"].str.slice(stop=12)\n",
        "    df[\"Diagnosis\"] = df[\"ID\"].str.slice(start=13)\n",
        "    \n",
        "    df = df.reset_index(drop=True)\n",
        "    \n",
        "    df = df.loc[:, [\"Label\", \"Diagnosis\", \"Image\"]]\n",
        "    df = df.set_index(['Image', 'Diagnosis']).unstack(level=-1)\n",
        "    \n",
        "    return df\n",
        "\n",
        "def read_testset(filename=TEST_LABELS):\n",
        "    df = pd.read_csv(filename)\n",
        "    df[\"Image\"] = df[\"ID\"].str.slice(stop=12)\n",
        "    df[\"Diagnosis\"] = df[\"ID\"].str.slice(start=13)\n",
        "\n",
        "    df = df.reset_index(drop=True)\n",
        "    \n",
        "    df = df.loc[:, [\"Label\", \"Diagnosis\", \"Image\"]]\n",
        "    df = df.set_index(['Image', 'Diagnosis']).unstack(level=-1)\n",
        "    \n",
        "    return df\n"
      ],
      "execution_count": 0,
      "outputs": []
    },
    {
      "cell_type": "markdown",
      "metadata": {
        "colab_type": "text",
        "id": "Ik6BjMUufPNh"
      },
      "source": [
        "###Hyperparameters (Most Important Part) - Run this only when training"
      ]
    },
    {
      "cell_type": "code",
      "metadata": {
        "colab_type": "code",
        "id": "_PAyYSQB_OZd",
        "colab": {}
      },
      "source": [
        "#To avoid tons of warning that are going to appear in training the model\n",
        "import warnings\n",
        "warnings.filterwarnings(\"ignore\")"
      ],
      "execution_count": 0,
      "outputs": []
    },
    {
      "cell_type": "code",
      "metadata": {
        "colab_type": "code",
        "id": "Hi58dXcEfT5r",
        "outputId": "1e57638c-045b-450e-deb1-940f02b979b9",
        "colab": {
          "base_uri": "https://localhost:8080/",
          "height": 1000
        }
      },
      "source": [
        "#Read train set\n",
        "df = read_trainset()\n",
        "\n",
        "# train set and validation set (Change number of splits)\n",
        "ss = ShuffleSplit(n_splits=3, test_size=0.2, random_state=42).split(df.index)\n",
        "\n",
        "train_idx, valid_idx = next(ss)\n",
        "\n",
        "# Choose any from this list to import - https://keras.io/applications/ and use as is in engine\n",
        "# obtain model (Possible values - InceptionV3, VGG16)\n",
        "model = MyDeepModel(engine=InceptionV3, input_dims=(256, 256, 3), batch_size=32, learning_rate=5e-4,\n",
        "                    num_epochs=2, decay_rate=0.8, decay_steps=1, weights=\"imagenet\", verbose=1)\n",
        "#model.load(SHORTLIST_WEIGHTS_DIR+WEIGHT_LOAD_NAME)\n",
        "history = model.fit_model(df.iloc[train_idx], df.iloc[valid_idx])"
      ],
      "execution_count": 0,
      "outputs": [
        {
          "output_type": "stream",
          "text": [
            "Epoch 1/2\n",
            "12679/18444 [===================>..........] - ETA: 1:35:00 - loss: 0.1195"
          ],
          "name": "stdout"
        }
      ]
    },
    {
      "cell_type": "code",
      "metadata": {
        "id": "tjhiez-jtTkB",
        "colab_type": "code",
        "colab": {}
      },
      "source": [
        "model.save(WEIGHTS_SAVE_DIR+WEIGHT_SAVING_NAME+\".hdf5\")"
      ],
      "execution_count": 0,
      "outputs": []
    },
    {
      "cell_type": "code",
      "metadata": {
        "colab_type": "code",
        "id": "MbdSsCOskBEl",
        "colab": {}
      },
      "source": [
        "#Plotting\n",
        "fig, ax = plt.subplots(3,1,figsize=(20,10))\n",
        "ax[0].plot(history.history[\"loss\"], 'o-')\n",
        "ax[0].plot(history.history[\"val_loss\"], 'o-')\n",
        "ax[1].plot(history.history[\"auc\"], 'o-')\n",
        "ax[1].plot(history.history[\"val_auc\"], 'o-')\n",
        "ax[2].plot(history.history[\"lr\"], 'o-')\n"
      ],
      "execution_count": 0,
      "outputs": []
    },
    {
      "cell_type": "markdown",
      "metadata": {
        "colab_type": "text",
        "id": "CNL-_L2LkPU7"
      },
      "source": [
        "###Loading the model without training"
      ]
    },
    {
      "cell_type": "code",
      "metadata": {
        "colab_type": "code",
        "id": "C6jU27X1j-Hb",
        "colab": {}
      },
      "source": [
        "model = MyDeepModel(engine=InceptionV3, input_dims=(256, 256, 3), batch_size=32, learning_rate=5e-4,\n",
        "                    num_epochs=1, decay_rate=0.8, decay_steps=1, weights=\"imagenet\", verbose=1)\n",
        "model.load(SHORTLIST_WEIGHTS_DIR+WEIGHT_LOAD_NAME)"
      ],
      "execution_count": 0,
      "outputs": []
    },
    {
      "cell_type": "markdown",
      "metadata": {
        "colab_type": "text",
        "id": "ucuWeLWyC7Ge"
      },
      "source": [
        "###Prediction"
      ]
    },
    {
      "cell_type": "code",
      "metadata": {
        "colab_type": "code",
        "id": "oBv2hNEhabfR",
        "outputId": "26d60653-0096-425f-a64a-a4a86c035f4b",
        "colab": {
          "base_uri": "https://localhost:8080/",
          "height": 35
        }
      },
      "source": [
        "#Read test set (No use as of now)\n",
        "test_df = read_testset(filename=TEST_LABELS)\n",
        "preds = model.predictions(test_df, batch_size_pred=1)\n",
        "df_preds = pd.DataFrame(preds, index=test_df.index.values)\n",
        "df_preds.columns = test_df.columns"
      ],
      "execution_count": 0,
      "outputs": [
        {
          "output_type": "stream",
          "text": [
            "2613/2613 [==============================] - 83s 32ms/step\n"
          ],
          "name": "stdout"
        }
      ]
    },
    {
      "cell_type": "markdown",
      "metadata": {
        "colab_type": "text",
        "id": "DVsGwDguoBmt"
      },
      "source": [
        "###Precision Recall Curve"
      ]
    },
    {
      "cell_type": "code",
      "metadata": {
        "colab_type": "code",
        "id": "uVAo_nk7oANN",
        "colab": {}
      },
      "source": [
        "Y = np.array(test_df)\n",
        "Y_pred = np.array(df_preds)"
      ],
      "execution_count": 0,
      "outputs": []
    },
    {
      "cell_type": "code",
      "metadata": {
        "colab_type": "code",
        "id": "DeI4KeAaKIZ3",
        "colab": {}
      },
      "source": [
        "from sklearn.metrics import precision_recall_curve\n",
        "from sklearn.metrics import average_precision_score\n",
        "\n",
        "# For each class\n",
        "precision = dict()\n",
        "recall = dict()\n",
        "average_precision = dict()\n",
        "for i in range(6):\n",
        "    precision[i], recall[i], threshold  = precision_recall_curve(Y[:, i],Y_pred[:, i])\n",
        "    average_precision[i] = average_precision_score(Y[:, i], Y_pred[:, i])\n"
      ],
      "execution_count": 0,
      "outputs": []
    },
    {
      "cell_type": "code",
      "metadata": {
        "colab_type": "code",
        "id": "7r1y5yBQKyHC",
        "outputId": "455f0f60-1970-4bfe-f37a-3e552802abe9",
        "colab": {
          "base_uri": "https://localhost:8080/",
          "height": 70
        }
      },
      "source": [
        "test_df['Label'].columns"
      ],
      "execution_count": 0,
      "outputs": [
        {
          "output_type": "execute_result",
          "data": {
            "text/plain": [
              "Index(['any', 'epidural', 'intraparenchymal', 'intraventricular',\n",
              "       'subarachnoid', 'subdural'],\n",
              "      dtype='object', name='Diagnosis')"
            ]
          },
          "metadata": {
            "tags": []
          },
          "execution_count": 192
        }
      ]
    },
    {
      "cell_type": "code",
      "metadata": {
        "colab_type": "code",
        "id": "-KUbdP0kAhbZ",
        "outputId": "3e231785-aebc-4822-acc3-8b206268bd1a",
        "colab": {
          "base_uri": "https://localhost:8080/",
          "height": 548
        }
      },
      "source": [
        "from itertools import cycle\n",
        "# setup plot details\n",
        "colors = cycle(['navy', 'turquoise', 'darkorange', 'cornflowerblue', 'teal','green','blue','red'])\n",
        "label = test_df[('Label')].columns\n",
        "plt.figure(figsize=(7, 8))\n",
        "f_scores = np.linspace(0.2, 0.8, num=4)\n",
        "lines = []\n",
        "labels = []\n",
        "for f_score in f_scores:\n",
        "    x = np.linspace(0.01, 1)\n",
        "    y = f_score * x / (2 * x - f_score)\n",
        "    l, = plt.plot(x[y >= 0], y[y >= 0], color='gray', alpha=0.2)\n",
        "    plt.annotate('f1={0:0.1f}'.format(f_score), xy=(0.9, y[45] + 0.02))\n",
        "\n",
        "\n",
        "for i, color in zip(range(6), colors):\n",
        "\n",
        "    l, = plt.plot(recall[i], precision[i], color=color, lw=2)\n",
        "    lines.append(l)\n",
        "    labels.append('Precision-recall for class {0} (area = {1:0.2f})'\n",
        "                  ''.format(label[i], average_precision[i]))\n",
        "\n",
        "fig = plt.gcf()\n",
        "fig.subplots_adjust(bottom=0.25)\n",
        "plt.xlim([0.0, 1.0])\n",
        "plt.ylim([0.0, 1.05])\n",
        "plt.xlabel('Recall')\n",
        "plt.ylabel('Precision')\n",
        "plt.title('Precision-Recall curve to multi-class')\n",
        "plt.legend(lines, labels, loc=(0, -.38), prop=dict(size=14))\n",
        "\n",
        "\n",
        "plt.show()"
      ],
      "execution_count": 0,
      "outputs": [
        {
          "output_type": "display_data",
          "data": {
            "image/png": "[encoded data removed]",
            "text/plain": [
              "<Figure size 504x576 with 1 Axes>"
            ]
          },
          "metadata": {
            "tags": []
          }
        }
      ]
    },
    {
      "cell_type": "markdown",
      "metadata": {
        "colab_type": "text",
        "id": "3ZASjEyJI9Y6"
      },
      "source": [
        "###For Individual class "
      ]
    },
    {
      "cell_type": "code",
      "metadata": {
        "colab_type": "code",
        "id": "W6Hn1w-EWrjw",
        "outputId": "18923c01-a3f0-41d0-89d9-9ad9d151df84",
        "colab": {
          "base_uri": "https://localhost:8080/",
          "height": 283
        }
      },
      "source": [
        "Y = np.array(test_df[('Label','epidural')])\n",
        "Y_pred = np.array(df_preds[('Label','epidural')])\n",
        "prec, rec, tre = precision_recall_curve(Y, Y_pred )\n",
        "\n",
        "def plot_prec_recall_vs_tresh(precisions, recalls, thresholds):\n",
        "    plt.plot(thresholds, precisions[:-1], 'b--', label='precision')\n",
        "    plt.plot(thresholds, recalls[:-1], 'g--', label = 'recall')\n",
        "    plt.xlabel('Threshold')\n",
        "    plt.legend(loc='best')\n",
        "    plt.ylim([0,1])\n",
        "\n",
        "plot_prec_recall_vs_tresh(prec, rec, tre)\n",
        "plt.show()"
      ],
      "execution_count": 0,
      "outputs": [
        {
          "output_type": "display_data",
          "data": {
            "image/png": "[encoded data removed]",
            "text/plain": [
              "<Figure size 432x288 with 1 Axes>"
            ]
          },
          "metadata": {
            "tags": []
          }
        }
      ]
    },
    {
      "cell_type": "code",
      "metadata": {
        "colab_type": "code",
        "id": "JN4zaJHzNFp8",
        "outputId": "ea964f18-acc0-4338-b833-9523bc367bb2",
        "colab": {
          "base_uri": "https://localhost:8080/",
          "height": 106
        }
      },
      "source": [
        "from sklearn.metrics import confusion_matrix\n",
        "Y_pred_labels = (Y_pred>0.0001).astype(int)\n",
        "print(\"True Negative, False Positive\")\n",
        "print(confusion_matrix(Y, Y_pred_labels))\n",
        "print(\"False Negative, True Positive\")\n",
        "print(\"Our aim is to minimize False Negatives\")"
      ],
      "execution_count": 0,
      "outputs": [
        {
          "output_type": "stream",
          "text": [
            "True Negative, False Positive\n",
            "[[1338 1154]\n",
            " [  20  101]]\n",
            "False Negative, True Positive\n",
            "Our aim is to minimize False Negatives\n"
          ],
          "name": "stdout"
        }
      ]
    }
  ]
}
